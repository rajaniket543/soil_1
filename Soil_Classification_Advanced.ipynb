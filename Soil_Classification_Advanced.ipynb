{
 "cells": [
  {
   "cell_type": "markdown",
   "id": "4965dc46",
   "metadata": {},
   "source": [
    "# Soil Image Classification – Advanced Pipeline\n",
    "This notebook implements:\n",
    "- 5-Fold Stratified CV ensemble with EfficientNet-B3\n",
    "- Class-weighted Focal Loss\n",
    "- Cosine Annealing LR Scheduler\n",
    "- Test-Time Augmentation (TTA)\n",
    "- Pseudo-Labeling of high-confidence test predictions\n",
    "- Limited to 5 epochs per training phase"
   ]
  },
  {
   "cell_type": "code",
   "execution_count": 2,
   "id": "662964eb",
   "metadata": {},
   "outputs": [],
   "source": [
    "import os\n",
    "import pandas as pd\n",
    "import numpy as np\n",
    "from PIL import Image\n",
    "from tqdm import tqdm\n",
    "import torch\n",
    "import torch.nn as nn\n",
    "import torch.optim as optim\n",
    "from torch.utils.data import Dataset, DataLoader\n",
    "import torchvision.transforms as transforms\n",
    "from torchvision import models\n",
    "from sklearn.model_selection import StratifiedKFold\n",
    "from sklearn.preprocessing import LabelEncoder\n",
    "from sklearn.metrics import f1_score\n",
    "\n",
    "device = torch.device('cuda' if torch.cuda.is_available() else 'cpu')"
   ]
  },
  {
   "cell_type": "code",
   "execution_count": 3,
   "id": "12f02ffe",
   "metadata": {},
   "outputs": [],
   "source": [
    "# Paths and dataframes\n",
    "DATA_DIR = 'soil_classification-2025'\n",
    "TRAIN_DIR = os.path.join(DATA_DIR, 'train')\n",
    "TEST_DIR = os.path.join(DATA_DIR, 'test')\n",
    "train_df = pd.read_csv(os.path.join(DATA_DIR, 'train_labels.csv'))\n",
    "test_df = pd.read_csv(os.path.join(DATA_DIR, 'test_ids.csv'))\n",
    "\n",
    "# Label encoding\n",
    "le = LabelEncoder()\n",
    "train_df['label'] = le.fit_transform(train_df['soil_type'])"
   ]
  },
  {
   "cell_type": "code",
   "execution_count": 4,
   "id": "e6b5079d",
   "metadata": {},
   "outputs": [],
   "source": [
    "class SoilDataset(Dataset):\n",
    "    def __init__(self, df, img_dir, transform=None, test=False):\n",
    "        self.df = df\n",
    "        self.img_dir = img_dir\n",
    "        self.transform = transform\n",
    "        self.test = test\n",
    "    def __len__(self):\n",
    "        return len(self.df)\n",
    "    def __getitem__(self, idx):\n",
    "        row = self.df.iloc[idx]\n",
    "        img = Image.open(os.path.join(self.img_dir, row['image_id'])).convert('RGB')\n",
    "        if self.transform:\n",
    "            img = self.transform(img)\n",
    "        if self.test:\n",
    "            return img, row['image_id']\n",
    "        return img, row['label']"
   ]
  },
  {
   "cell_type": "code",
   "execution_count": 5,
   "id": "1764e7e1",
   "metadata": {},
   "outputs": [],
   "source": [
    "transform_train = transforms.Compose([\n",
    "    transforms.Resize((224,224)), transforms.RandomHorizontalFlip(),\n",
    "    transforms.RandomRotation(15), transforms.ColorJitter(brightness=0.2, contrast=0.2),\n",
    "    transforms.ToTensor(), transforms.Normalize([0.485,0.456,0.406],[0.229,0.224,0.225])\n",
    "])\n",
    "transform_test = transforms.Compose([\n",
    "    transforms.Resize((224,224)), transforms.ToTensor(),\n",
    "    transforms.Normalize([0.485,0.456,0.406],[0.229,0.224,0.225])\n",
    "])"
   ]
  },
  {
   "cell_type": "code",
   "execution_count": 6,
   "id": "215c1240",
   "metadata": {},
   "outputs": [],
   "source": [
    "class FocalLoss(nn.Module):\n",
    "    def __init__(self, gamma=2, weight=None):\n",
    "        super().__init__()\n",
    "        self.gamma = gamma\n",
    "        self.ce = nn.CrossEntropyLoss(weight=weight)\n",
    "    def forward(self, input, target):\n",
    "        logpt = -self.ce(input, target)\n",
    "        pt = torch.exp(logpt)\n",
    "        loss = -((1-pt)**self.gamma) * logpt\n",
    "        return loss.mean()\n",
    "\n",
    "# Function to get model\n",
    "def get_model(weights=None):\n",
    "    m = models.efficientnet_b3(pretrained=True)\n",
    "    m.classifier[1] = nn.Linear(m.classifier[1].in_features, 4)\n",
    "    if weights:\n",
    "        m.load_state_dict(torch.load(weights))\n",
    "    return m.to(device)"
   ]
  },
  {
   "cell_type": "code",
   "execution_count": 7,
   "id": "a8f7de85",
   "metadata": {},
   "outputs": [
    {
     "name": "stdout",
     "output_type": "stream",
     "text": [
      "Fold 1\n"
     ]
    },
    {
     "name": "stderr",
     "output_type": "stream",
     "text": [
      "c:\\Users\\rajan\\AppData\\Local\\Programs\\Python\\Python313\\Lib\\site-packages\\torchvision\\models\\_utils.py:208: UserWarning: The parameter 'pretrained' is deprecated since 0.13 and may be removed in the future, please use 'weights' instead.\n",
      "  warnings.warn(\n",
      "c:\\Users\\rajan\\AppData\\Local\\Programs\\Python\\Python313\\Lib\\site-packages\\torchvision\\models\\_utils.py:223: UserWarning: Arguments other than a weight enum or `None` for 'weights' are deprecated since 0.13 and may be removed in the future. The current behavior is equivalent to passing `weights=EfficientNet_B3_Weights.IMAGENET1K_V1`. You can also use `weights=EfficientNet_B3_Weights.DEFAULT` to get the most up-to-date weights.\n",
      "  warnings.warn(msg)\n",
      "Epoch 1:   0%|          | 0/31 [01:10<?, ?it/s]\n"
     ]
    },
    {
     "ename": "KeyboardInterrupt",
     "evalue": "",
     "output_type": "error",
     "traceback": [
      "\u001b[31m---------------------------------------------------------------------------\u001b[39m",
      "\u001b[31mKeyboardInterrupt\u001b[39m                         Traceback (most recent call last)",
      "\u001b[36mCell\u001b[39m\u001b[36m \u001b[39m\u001b[32mIn[7]\u001b[39m\u001b[32m, line 32\u001b[39m\n\u001b[32m     30\u001b[39m     out = model(imgs)\n\u001b[32m     31\u001b[39m     loss = criterion(out, labels)\n\u001b[32m---> \u001b[39m\u001b[32m32\u001b[39m     loss.backward(); optimizer.step(); total_loss += loss.item()\n\u001b[32m     33\u001b[39m scheduler.step()\n\u001b[32m     35\u001b[39m \u001b[38;5;66;03m# Validate\u001b[39;00m\n",
      "\u001b[36mFile \u001b[39m\u001b[32mc:\\Users\\rajan\\AppData\\Local\\Programs\\Python\\Python313\\Lib\\site-packages\\torch\\_tensor.py:648\u001b[39m, in \u001b[36mTensor.backward\u001b[39m\u001b[34m(self, gradient, retain_graph, create_graph, inputs)\u001b[39m\n\u001b[32m    638\u001b[39m \u001b[38;5;28;01mif\u001b[39;00m has_torch_function_unary(\u001b[38;5;28mself\u001b[39m):\n\u001b[32m    639\u001b[39m     \u001b[38;5;28;01mreturn\u001b[39;00m handle_torch_function(\n\u001b[32m    640\u001b[39m         Tensor.backward,\n\u001b[32m    641\u001b[39m         (\u001b[38;5;28mself\u001b[39m,),\n\u001b[32m   (...)\u001b[39m\u001b[32m    646\u001b[39m         inputs=inputs,\n\u001b[32m    647\u001b[39m     )\n\u001b[32m--> \u001b[39m\u001b[32m648\u001b[39m \u001b[43mtorch\u001b[49m\u001b[43m.\u001b[49m\u001b[43mautograd\u001b[49m\u001b[43m.\u001b[49m\u001b[43mbackward\u001b[49m\u001b[43m(\u001b[49m\n\u001b[32m    649\u001b[39m \u001b[43m    \u001b[49m\u001b[38;5;28;43mself\u001b[39;49m\u001b[43m,\u001b[49m\u001b[43m \u001b[49m\u001b[43mgradient\u001b[49m\u001b[43m,\u001b[49m\u001b[43m \u001b[49m\u001b[43mretain_graph\u001b[49m\u001b[43m,\u001b[49m\u001b[43m \u001b[49m\u001b[43mcreate_graph\u001b[49m\u001b[43m,\u001b[49m\u001b[43m \u001b[49m\u001b[43minputs\u001b[49m\u001b[43m=\u001b[49m\u001b[43minputs\u001b[49m\n\u001b[32m    650\u001b[39m \u001b[43m\u001b[49m\u001b[43m)\u001b[49m\n",
      "\u001b[36mFile \u001b[39m\u001b[32mc:\\Users\\rajan\\AppData\\Local\\Programs\\Python\\Python313\\Lib\\site-packages\\torch\\autograd\\__init__.py:353\u001b[39m, in \u001b[36mbackward\u001b[39m\u001b[34m(tensors, grad_tensors, retain_graph, create_graph, grad_variables, inputs)\u001b[39m\n\u001b[32m    348\u001b[39m     retain_graph = create_graph\n\u001b[32m    350\u001b[39m \u001b[38;5;66;03m# The reason we repeat the same comment below is that\u001b[39;00m\n\u001b[32m    351\u001b[39m \u001b[38;5;66;03m# some Python versions print out the first line of a multi-line function\u001b[39;00m\n\u001b[32m    352\u001b[39m \u001b[38;5;66;03m# calls in the traceback and some print out the last line\u001b[39;00m\n\u001b[32m--> \u001b[39m\u001b[32m353\u001b[39m \u001b[43m_engine_run_backward\u001b[49m\u001b[43m(\u001b[49m\n\u001b[32m    354\u001b[39m \u001b[43m    \u001b[49m\u001b[43mtensors\u001b[49m\u001b[43m,\u001b[49m\n\u001b[32m    355\u001b[39m \u001b[43m    \u001b[49m\u001b[43mgrad_tensors_\u001b[49m\u001b[43m,\u001b[49m\n\u001b[32m    356\u001b[39m \u001b[43m    \u001b[49m\u001b[43mretain_graph\u001b[49m\u001b[43m,\u001b[49m\n\u001b[32m    357\u001b[39m \u001b[43m    \u001b[49m\u001b[43mcreate_graph\u001b[49m\u001b[43m,\u001b[49m\n\u001b[32m    358\u001b[39m \u001b[43m    \u001b[49m\u001b[43minputs\u001b[49m\u001b[43m,\u001b[49m\n\u001b[32m    359\u001b[39m \u001b[43m    \u001b[49m\u001b[43mallow_unreachable\u001b[49m\u001b[43m=\u001b[49m\u001b[38;5;28;43;01mTrue\u001b[39;49;00m\u001b[43m,\u001b[49m\n\u001b[32m    360\u001b[39m \u001b[43m    \u001b[49m\u001b[43maccumulate_grad\u001b[49m\u001b[43m=\u001b[49m\u001b[38;5;28;43;01mTrue\u001b[39;49;00m\u001b[43m,\u001b[49m\n\u001b[32m    361\u001b[39m \u001b[43m\u001b[49m\u001b[43m)\u001b[49m\n",
      "\u001b[36mFile \u001b[39m\u001b[32mc:\\Users\\rajan\\AppData\\Local\\Programs\\Python\\Python313\\Lib\\site-packages\\torch\\autograd\\graph.py:824\u001b[39m, in \u001b[36m_engine_run_backward\u001b[39m\u001b[34m(t_outputs, *args, **kwargs)\u001b[39m\n\u001b[32m    822\u001b[39m     unregister_hooks = _register_logging_hooks_on_whole_graph(t_outputs)\n\u001b[32m    823\u001b[39m \u001b[38;5;28;01mtry\u001b[39;00m:\n\u001b[32m--> \u001b[39m\u001b[32m824\u001b[39m     \u001b[38;5;28;01mreturn\u001b[39;00m \u001b[43mVariable\u001b[49m\u001b[43m.\u001b[49m\u001b[43m_execution_engine\u001b[49m\u001b[43m.\u001b[49m\u001b[43mrun_backward\u001b[49m\u001b[43m(\u001b[49m\u001b[43m  \u001b[49m\u001b[38;5;66;43;03m# Calls into the C++ engine to run the backward pass\u001b[39;49;00m\n\u001b[32m    825\u001b[39m \u001b[43m        \u001b[49m\u001b[43mt_outputs\u001b[49m\u001b[43m,\u001b[49m\u001b[43m \u001b[49m\u001b[43m*\u001b[49m\u001b[43margs\u001b[49m\u001b[43m,\u001b[49m\u001b[43m \u001b[49m\u001b[43m*\u001b[49m\u001b[43m*\u001b[49m\u001b[43mkwargs\u001b[49m\n\u001b[32m    826\u001b[39m \u001b[43m    \u001b[49m\u001b[43m)\u001b[49m  \u001b[38;5;66;03m# Calls into the C++ engine to run the backward pass\u001b[39;00m\n\u001b[32m    827\u001b[39m \u001b[38;5;28;01mfinally\u001b[39;00m:\n\u001b[32m    828\u001b[39m     \u001b[38;5;28;01mif\u001b[39;00m attach_logging_hooks:\n",
      "\u001b[31mKeyboardInterrupt\u001b[39m: "
     ]
    }
   ],
   "source": [
    "skf = StratifiedKFold(n_splits=5, shuffle=True, random_state=42)\n",
    "test_probs = np.zeros((len(test_df), 4))\n",
    "\n",
    "for fold, (train_idx, val_idx) in enumerate(skf.split(train_df, train_df['label'])):\n",
    "    print(f'Fold {fold+1}')\n",
    "    tr_df = train_df.iloc[train_idx].reset_index(drop=True)\n",
    "    vl_df = train_df.iloc[val_idx].reset_index(drop=True)\n",
    "    \n",
    "    # Compute class weights\n",
    "    freq = tr_df['label'].value_counts().sort_index().values\n",
    "    weights = 1.0 / torch.tensor(freq, dtype=torch.float).to(device)\n",
    "    criterion = FocalLoss(weight=weights)\n",
    "    \n",
    "    # DataLoaders\n",
    "    train_ds = SoilDataset(tr_df, TRAIN_DIR, transform_train)\n",
    "    val_ds = SoilDataset(vl_df, TRAIN_DIR, transform_train)\n",
    "    train_loader = DataLoader(train_ds, batch_size=32, shuffle=True)\n",
    "    val_loader = DataLoader(val_ds, batch_size=32, shuffle=False)\n",
    "\n",
    "    model = get_model()\n",
    "    optimizer = optim.Adam(model.parameters(), lr=1e-4)\n",
    "    scheduler = optim.lr_scheduler.CosineAnnealingLR(optimizer, T_max=5)\n",
    "    best_f1 = 0.0\n",
    "\n",
    "    for epoch in range(5):\n",
    "        model.train(); total_loss=0\n",
    "        for imgs, labels in tqdm(train_loader, desc=f'Epoch {epoch+1}'):\n",
    "            imgs, labels = imgs.to(device), labels.to(device)\n",
    "            optimizer.zero_grad()\n",
    "            out = model(imgs)\n",
    "            loss = criterion(out, labels)\n",
    "            loss.backward(); optimizer.step(); total_loss += loss.item()\n",
    "        scheduler.step()\n",
    "        \n",
    "        # Validate\n",
    "        model.eval(); preds, truths = [], []\n",
    "        with torch.no_grad():\n",
    "            for imgs, labels in val_loader:\n",
    "                imgs = imgs.to(device)\n",
    "                out = model(imgs); _, p = torch.max(out,1)\n",
    "                preds.extend(p.cpu().numpy()); truths.extend(labels.numpy())\n",
    "        f1s = f1_score(truths, preds, average=None)\n",
    "        min_f1 = f1s.min(); print(f'Epoch {epoch+1} Min F1: {min_f1:.4f}')\n",
    "        if min_f1 > best_f1:\n",
    "            best_f1 = min_f1; torch.save(model.state_dict(), f'best_fold{fold}.pth')\n",
    "    \n",
    "    # Test set predictions with TTA\n",
    "    tta_transforms = [\n",
    "        transforms.RandomHorizontalFlip(p=1.0),\n",
    "        transforms.RandomVerticalFlip(p=1.0),\n",
    "        transforms.RandomRotation(10)\n",
    "    ]\n",
    "    model.load_state_dict(torch.load(f'best_fold{fold}.pth'))\n",
    "    model.eval()\n",
    "    for i, row in tqdm(test_df.iterrows(), total=len(test_df), desc='Test TTA'):\n",
    "        img = Image.open(os.path.join(TEST_DIR, row['image_id'])).convert('RGB')\n",
    "        probs = []\n",
    "        for t in tta_transforms:\n",
    "            aug = transforms.Compose([t, transform_test])\n",
    "            x = aug(img).unsqueeze(0).to(device)\n",
    "            with torch.no_grad():\n",
    "                out = torch.softmax(model(x), dim=1).cpu().numpy()\n",
    "            probs.append(out)\n",
    "        avg = np.mean(probs, axis=0)\n",
    "        test_probs[i] += avg.squeeze()\n",
    "\n",
    "# Average ensemble probabilities\n",
    "test_probs /= 5"
   ]
  },
  {
   "cell_type": "code",
   "execution_count": null,
   "id": "2d1f11d6",
   "metadata": {},
   "outputs": [
    {
     "name": "stdout",
     "output_type": "stream",
     "text": [
      "Pseudo-labeled 0 samples\n"
     ]
    },
    {
     "name": "stderr",
     "output_type": "stream",
     "text": [
      "c:\\Users\\rajan\\AppData\\Local\\Programs\\Python\\Python313\\Lib\\site-packages\\torchvision\\models\\_utils.py:208: UserWarning: The parameter 'pretrained' is deprecated since 0.13 and may be removed in the future, please use 'weights' instead.\n",
      "  warnings.warn(\n",
      "c:\\Users\\rajan\\AppData\\Local\\Programs\\Python\\Python313\\Lib\\site-packages\\torchvision\\models\\_utils.py:223: UserWarning: Arguments other than a weight enum or `None` for 'weights' are deprecated since 0.13 and may be removed in the future. The current behavior is equivalent to passing `weights=EfficientNet_B3_Weights.IMAGENET1K_V1`. You can also use `weights=EfficientNet_B3_Weights.DEFAULT` to get the most up-to-date weights.\n",
      "  warnings.warn(msg)\n",
      "Final Epoch 1: 100%|██████████| 39/39 [33:33<00:00, 51.62s/it]\n"
     ]
    },
    {
     "name": "stdout",
     "output_type": "stream",
     "text": [
      "Final Epoch 1 Loss: 0.4475\n"
     ]
    },
    {
     "name": "stderr",
     "output_type": "stream",
     "text": [
      "Final Epoch 2:   0%|          | 0/39 [00:00<?, ?it/s]"
     ]
    }
   ],
   "source": [
    "# Pseudo-label high-confidence predictions\n",
    "conf_threshold = 0.99\n",
    "pseudo_labels = np.argmax(test_probs, axis=1)\n",
    "confidences = np.max(test_probs, axis=1)\n",
    "pseudo_df = test_df[confidences > conf_threshold].copy()\n",
    "pseudo_df['label'] = pseudo_labels[confidences > conf_threshold]\n",
    "print(f'Pseudo-labeled {len(pseudo_df)} samples')\n",
    "\n",
    "# Combine and retrain final model\n",
    "combined_df = pd.concat([train_df, pseudo_df], ignore_index=True)\n",
    "final_model = get_model()\n",
    "freq = combined_df['label'].value_counts().sort_index().values\n",
    "weights = 1.0 / torch.tensor(freq, dtype=torch.float).to(device)\n",
    "criterion = FocalLoss(weight=weights)\n",
    "optimizer = optim.Adam(final_model.parameters(), lr=1e-4)\n",
    "scheduler = optim.lr_scheduler.CosineAnnealingLR(optimizer, T_max=5)\n",
    "\n",
    "ds = SoilDataset(combined_df, TRAIN_DIR, transform_train)\n",
    "loader = DataLoader(ds, batch_size=32, shuffle=True)\n",
    "\n",
    "for epoch in range(5):\n",
    "    final_model.train(); total_loss = 0\n",
    "    for imgs, labels in tqdm(loader, desc=f'Final Epoch {epoch+1}'):\n",
    "        imgs, labels = imgs.to(device), labels.to(device)\n",
    "        optimizer.zero_grad()\n",
    "        out = final_model(imgs)\n",
    "        loss = criterion(out, labels)\n",
    "        loss.backward(); optimizer.step(); total_loss += loss.item()\n",
    "    scheduler.step()\n",
    "    print(f'Final Epoch {epoch+1} Loss: {total_loss/len(loader):.4f}')\n",
    "\n",
    "# Final predictions\n",
    "final_model.eval(); final_preds, ids = [], []\n",
    "with torch.no_grad():\n",
    "    for imgs, row in tqdm(test_df.iterrows(), total=len(test_df), desc='Final Predict'):\n",
    "        img = Image.open(os.path.join(TEST_DIR, row['image_id'])).convert('RGB')\n",
    "        x = transform_test(img).unsqueeze(0).to(device)\n",
    "        out = final_model(x); _, p = torch.max(out,1)\n",
    "        final_preds.append(p.item()); ids.append(row['image_id'])\n",
    "pred_labels = le.inverse_transform(final_preds)\n",
    "pd.DataFrame({'image_id': ids, 'soil_type': pred_labels}).to_csv('submission.csv', index=False)\n",
    "print('submission.csv created')"
   ]
  }
 ],
 "metadata": {
  "kernelspec": {
   "display_name": "Python 3",
   "language": "python",
   "name": "python3"
  },
  "language_info": {
   "codemirror_mode": {
    "name": "ipython",
    "version": 3
   },
   "file_extension": ".py",
   "mimetype": "text/x-python",
   "name": "python",
   "nbconvert_exporter": "python",
   "pygments_lexer": "ipython3",
   "version": "3.13.3"
  }
 },
 "nbformat": 4,
 "nbformat_minor": 5
}
